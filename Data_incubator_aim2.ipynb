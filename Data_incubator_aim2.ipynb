{
 "cells": [
  {
   "cell_type": "code",
   "execution_count": 1,
   "metadata": {},
   "outputs": [
    {
     "name": "stderr",
     "output_type": "stream",
     "text": [
      "C:\\Program Files\\Anaconda3\\lib\\site-packages\\IPython\\core\\interactiveshell.py:2717: DtypeWarning: Columns (25,27,33,36,64,65,66) have mixed types. Specify dtype option on import or set low_memory=False.\n",
      "  interactivity=interactivity, compiler=compiler, result=result)\n"
     ]
    }
   ],
   "source": [
    "import numpy as np\n",
    "import pandas as pd\n",
    "from datetime import datetime\n",
    "from datetime import timedelta\n",
    "%matplotlib inline\n",
    "import matplotlib.pyplot as plt\n",
    "from numpy.polynomial.polynomial import polyfit\n",
    "plt.style.use('seaborn')\n",
    "\n",
    "#read the csv file\n",
    "data_dent=pd.read_csv(r'C:/MEPS/data.csv',sep=',')\n",
    "#Find out the column with na >20000, drop them\n",
    "tmp_colum = []\n",
    "for col in data_dent:\n",
    "    if (data_dent[col].isnull().values.sum())> 20000:\n",
    "        tmp_colum.append(col)\n",
    "data_dent_clean = data_dent.drop(tmp_colum,axis=1)  \n",
    "#Input the vaiable list\n",
    "Dent_type = [\n",
    "                             \"DENTAL HYGIENIST SEEN\",\n",
    "                             \"DENTAL SURGEON SEEN\",\n",
    "                             \"DENTAL TECHNICIAN SEEN\",\n",
    "                             \"ENDODONTIST SEEN\",\n",
    "                             \"GENERAL DENTIST SEEN\",\n",
    "                             \"ORTHODONTIST SEEN\",\n",
    "                             \"PERIODONTIST SEEN\",\n",
    "                             \"ABSCESS OR INFECTION TREATMENT\",\n",
    "                             \"BONDING, WHITENING, OR BLEACHING\",\n",
    "                             \"BRIDGES\",\n",
    "                             \"CLEANING, PROPHYLAXIS, OR POLISHING\",\n",
    "                             \"CROWNS OR CAPS\",\n",
    "                             \"DENTURES OR PARTIAL DENTURES\",\n",
    "                             \"EXTRACTION, TOOTH PULLED\",\n",
    "                             \"FILLINGS\",\n",
    "                             \"FLUORIDE TREATMENT\",\n",
    "                             \"GENERAL EXAM OR CONSULTATION\",\n",
    "                             \"IMPLANTS\",\n",
    "                             \"INLAYS\",\n",
    "                             \"ORAL SURGERY\",\n",
    "                             \"OTHER DENTAL PROCEDURES\",\n",
    "                             \"OTHER DENTAL SPECIALIST SEEN\",\n",
    "                             \"PERIODONTAL RECALL VISIT\",\n",
    "                             \"PERIODONTAL SCALING, ROOT PLANING OR GUM\",\n",
    "                             \"RECEIVED MEDICINE INCLUDING FREE SAMPLE\",\n",
    "                             \"REPAIR OF BRIDGES/DENTURES OR RELINING\",\n",
    "                             \"ROOT CANAL\",\n",
    "                             \"SEALANT APPLICATION\",\n",
    "                             \"TREATMENT FOR TMD OR TMJ\",\n",
    "                             \"X-RAYS, RADIOGRAPHS OR BITEWINGS\"\n",
    "]\n",
    "\n",
    "Amount_var = [\n",
    "    \"AMOUNT PAID, FAMILY (IMPUTED)\",\n",
    "    \"AMOUNT PAID, MEDICAID (IMPUTED)\",\n",
    "    \"AMOUNT PAID, MEDICARE (IMPUTED)\",\n",
    "    \"AMOUNT PAID, OTHER FEDERAL (IMPUTED)\",\n",
    "    \"AMOUNT PAID, OTHER INSURANCE (IMPUTED)\",\n",
    "    \"AMOUNT PAID, OTHER PRIVATE (IMPUTED)\",\n",
    "    \"AMOUNT PAID, OTHER PUBLIC (IMPUTED)\",\n",
    "    \"AMOUNT PAID, PRIVATE INSURANCE (IMPUTED)\",\n",
    "    \"AMOUNT PAID, STATE & LOCAL GOV (IMPUTED)\",\n",
    "    \"AMOUNT PAID, WORKERS COMP (IMPUTED)\"    \n",
    "]\n",
    "\n",
    "Choice = Amount_var+Dent_type\n",
    "\n",
    "                          "
   ]
  },
  {
   "cell_type": "code",
   "execution_count": 2,
   "metadata": {
    "collapsed": true
   },
   "outputs": [],
   "source": [
    "#create new dataframe by selecting desired columns\n",
    "data_test2 = data_dent_clean[Choice]"
   ]
  },
  {
   "cell_type": "code",
   "execution_count": 3,
   "metadata": {
    "collapsed": true
   },
   "outputs": [],
   "source": [
    "#Drop any row with values not as Yes or No\n",
    "data_test3 = data_test2\n",
    "for i in range(len(Dent_type)):\n",
    "    data_test3 = data_test3.loc[(data_test3[Dent_type[i]].astype(str) == \"2 NO\") | (data_test3[Dent_type[i]].astype(str)==\"1 YES\"),:]"
   ]
  },
  {
   "cell_type": "code",
   "execution_count": 4,
   "metadata": {
    "collapsed": true
   },
   "outputs": [],
   "source": [
    "#Drop any row with NA\n",
    "data_test3 = data_test3.dropna()"
   ]
  },
  {
   "cell_type": "code",
   "execution_count": 5,
   "metadata": {},
   "outputs": [
    {
     "data": {
      "text/plain": [
       "AMOUNT PAID, FAMILY (IMPUTED)               float64\n",
       "AMOUNT PAID, MEDICAID (IMPUTED)             float64\n",
       "AMOUNT PAID, MEDICARE (IMPUTED)             float64\n",
       "AMOUNT PAID, OTHER FEDERAL (IMPUTED)        float64\n",
       "AMOUNT PAID, OTHER INSURANCE (IMPUTED)      float64\n",
       "AMOUNT PAID, OTHER PRIVATE (IMPUTED)        float64\n",
       "AMOUNT PAID, OTHER PUBLIC (IMPUTED)         float64\n",
       "AMOUNT PAID, PRIVATE INSURANCE (IMPUTED)    float64\n",
       "AMOUNT PAID, STATE & LOCAL GOV (IMPUTED)    float64\n",
       "AMOUNT PAID, WORKERS COMP (IMPUTED)         float64\n",
       "DENTAL HYGIENIST SEEN                        object\n",
       "DENTAL SURGEON SEEN                          object\n",
       "DENTAL TECHNICIAN SEEN                       object\n",
       "ENDODONTIST SEEN                             object\n",
       "GENERAL DENTIST SEEN                         object\n",
       "ORTHODONTIST SEEN                            object\n",
       "PERIODONTIST SEEN                            object\n",
       "ABSCESS OR INFECTION TREATMENT               object\n",
       "BONDING, WHITENING, OR BLEACHING             object\n",
       "BRIDGES                                      object\n",
       "CLEANING, PROPHYLAXIS, OR POLISHING          object\n",
       "CROWNS OR CAPS                               object\n",
       "DENTURES OR PARTIAL DENTURES                 object\n",
       "EXTRACTION, TOOTH PULLED                     object\n",
       "FILLINGS                                     object\n",
       "FLUORIDE TREATMENT                           object\n",
       "GENERAL EXAM OR CONSULTATION                 object\n",
       "IMPLANTS                                     object\n",
       "INLAYS                                       object\n",
       "ORAL SURGERY                                 object\n",
       "OTHER DENTAL PROCEDURES                      object\n",
       "OTHER DENTAL SPECIALIST SEEN                 object\n",
       "PERIODONTAL RECALL VISIT                     object\n",
       "PERIODONTAL SCALING, ROOT PLANING OR GUM     object\n",
       "RECEIVED MEDICINE INCLUDING FREE SAMPLE      object\n",
       "REPAIR OF BRIDGES/DENTURES OR RELINING       object\n",
       "ROOT CANAL                                   object\n",
       "SEALANT APPLICATION                          object\n",
       "TREATMENT FOR TMD OR TMJ                     object\n",
       "X-RAYS, RADIOGRAPHS OR BITEWINGS             object\n",
       "dtype: object"
      ]
     },
     "execution_count": 5,
     "metadata": {},
     "output_type": "execute_result"
    }
   ],
   "source": [
    "#check the datatypes of data_test3 to see if there is abnormal value\n",
    "data_test3.dtypes"
   ]
  },
  {
   "cell_type": "code",
   "execution_count": 6,
   "metadata": {
    "collapsed": true
   },
   "outputs": [],
   "source": [
    "#Select Payment from Medicaid and Medicare as a new date frame\n",
    "data_expentidure = data_test3[[\n",
    "                            \"AMOUNT PAID, MEDICAID (IMPUTED)\",\n",
    "                            \"AMOUNT PAID, MEDICARE (IMPUTED)\",\n",
    "                             ]]\n",
    "#Select certain columns from data_test3\n",
    "data_dentist = data_test3[Dent_type]"
   ]
  },
  {
   "cell_type": "code",
   "execution_count": 7,
   "metadata": {},
   "outputs": [
    {
     "data": {
      "text/plain": [
       "['ABSCESS OR INFECTION TREATMENT=1 YES',\n",
       " 'ABSCESS OR INFECTION TREATMENT=2 NO',\n",
       " 'BONDING, WHITENING, OR BLEACHING=1 YES',\n",
       " 'BONDING, WHITENING, OR BLEACHING=2 NO',\n",
       " 'BRIDGES=1 YES',\n",
       " 'BRIDGES=2 NO',\n",
       " 'CLEANING, PROPHYLAXIS, OR POLISHING=1 YES',\n",
       " 'CLEANING, PROPHYLAXIS, OR POLISHING=2 NO',\n",
       " 'CROWNS OR CAPS=1 YES',\n",
       " 'CROWNS OR CAPS=2 NO',\n",
       " 'DENTAL HYGIENIST SEEN=1 YES',\n",
       " 'DENTAL HYGIENIST SEEN=2 NO',\n",
       " 'DENTAL SURGEON SEEN=1 YES',\n",
       " 'DENTAL SURGEON SEEN=2 NO',\n",
       " 'DENTAL TECHNICIAN SEEN=1 YES',\n",
       " 'DENTAL TECHNICIAN SEEN=2 NO',\n",
       " 'DENTURES OR PARTIAL DENTURES=1 YES',\n",
       " 'DENTURES OR PARTIAL DENTURES=2 NO',\n",
       " 'ENDODONTIST SEEN=1 YES',\n",
       " 'ENDODONTIST SEEN=2 NO',\n",
       " 'EXTRACTION, TOOTH PULLED=1 YES',\n",
       " 'EXTRACTION, TOOTH PULLED=2 NO',\n",
       " 'FILLINGS=1 YES',\n",
       " 'FILLINGS=2 NO',\n",
       " 'FLUORIDE TREATMENT=1 YES',\n",
       " 'FLUORIDE TREATMENT=2 NO',\n",
       " 'GENERAL DENTIST SEEN=1 YES',\n",
       " 'GENERAL DENTIST SEEN=2 NO',\n",
       " 'GENERAL EXAM OR CONSULTATION=1 YES',\n",
       " 'GENERAL EXAM OR CONSULTATION=2 NO',\n",
       " 'IMPLANTS=1 YES',\n",
       " 'IMPLANTS=2 NO',\n",
       " 'INLAYS=1 YES',\n",
       " 'INLAYS=2 NO',\n",
       " 'ORAL SURGERY=1 YES',\n",
       " 'ORAL SURGERY=2 NO',\n",
       " 'ORTHODONTIST SEEN=1 YES',\n",
       " 'ORTHODONTIST SEEN=2 NO',\n",
       " 'OTHER DENTAL PROCEDURES=1 YES',\n",
       " 'OTHER DENTAL PROCEDURES=2 NO',\n",
       " 'OTHER DENTAL SPECIALIST SEEN=1 YES',\n",
       " 'OTHER DENTAL SPECIALIST SEEN=2 NO',\n",
       " 'PERIODONTAL RECALL VISIT=1 YES',\n",
       " 'PERIODONTAL RECALL VISIT=2 NO',\n",
       " 'PERIODONTAL SCALING, ROOT PLANING OR GUM=1 YES',\n",
       " 'PERIODONTAL SCALING, ROOT PLANING OR GUM=2 NO',\n",
       " 'PERIODONTIST SEEN=1 YES',\n",
       " 'PERIODONTIST SEEN=2 NO',\n",
       " 'RECEIVED MEDICINE INCLUDING FREE SAMPLE=1 YES',\n",
       " 'RECEIVED MEDICINE INCLUDING FREE SAMPLE=2 NO',\n",
       " 'REPAIR OF BRIDGES/DENTURES OR RELINING=1 YES',\n",
       " 'REPAIR OF BRIDGES/DENTURES OR RELINING=2 NO',\n",
       " 'ROOT CANAL=1 YES',\n",
       " 'ROOT CANAL=2 NO',\n",
       " 'SEALANT APPLICATION=1 YES',\n",
       " 'SEALANT APPLICATION=2 NO',\n",
       " 'TREATMENT FOR TMD OR TMJ=1 YES',\n",
       " 'TREATMENT FOR TMD OR TMJ=2 NO',\n",
       " 'X-RAYS, RADIOGRAPHS OR BITEWINGS=1 YES',\n",
       " 'X-RAYS, RADIOGRAPHS OR BITEWINGS=2 NO']"
      ]
     },
     "execution_count": 7,
     "metadata": {},
     "output_type": "execute_result"
    }
   ],
   "source": [
    "#use DictVectorizer to do the on-hot encoding to indicate the presence of categorical variables\n",
    "from sklearn.feature_extraction import DictVectorizer\n",
    "data_list = data_dentist.T.to_dict().values()\n",
    "vec = DictVectorizer(sparse=False, dtype=int)\n",
    "X=vec.fit_transform(data_list)\n",
    "#chek the names of new variables\n",
    "vec.get_feature_names()"
   ]
  },
  {
   "cell_type": "code",
   "execution_count": 8,
   "metadata": {
    "collapsed": true
   },
   "outputs": [],
   "source": [
    "#Y2 is the sum of payment from Medicare and Mediaid\n",
    "Y2 = data_expentidure.apply(lambda x: x.sum(), axis=1)\n",
    "#set the int dtype for Y\n",
    "Y = np.array(Y2.astype(int))\n",
    "X = np.array(vec.transform(data_list))"
   ]
  },
  {
   "cell_type": "code",
   "execution_count": 9,
   "metadata": {},
   "outputs": [
    {
     "name": "stderr",
     "output_type": "stream",
     "text": [
      "C:\\Program Files\\Anaconda3\\lib\\site-packages\\sklearn\\cross_validation.py:41: DeprecationWarning: This module was deprecated in version 0.18 in favor of the model_selection module into which all the refactored classes and functions are moved. Also note that the interface of the new CV iterators are different from that of this module. This module will be removed in 0.20.\n",
      "  \"This module will be removed in 0.20.\", DeprecationWarning)\n"
     ]
    }
   ],
   "source": [
    "#use cross_validation method to split dataset into train and test set\n",
    "from sklearn import cross_validation\n",
    "X_train,X_test,Y_train,Y_test = cross_validation.train_test_split(X, Y, test_size=0.3, random_state=0)"
   ]
  },
  {
   "cell_type": "code",
   "execution_count": 10,
   "metadata": {},
   "outputs": [
    {
     "name": "stdout",
     "output_type": "stream",
     "text": [
      "(184240, 60) (184240,) (78961, 60) (78961,)\n"
     ]
    }
   ],
   "source": [
    "#Check the shape of datasets\n",
    "print(X_train.shape, Y_train.shape, X_test.shape, Y_test.shape)"
   ]
  },
  {
   "cell_type": "code",
   "execution_count": 11,
   "metadata": {},
   "outputs": [
    {
     "data": {
      "text/plain": [
       "False"
      ]
     },
     "execution_count": 11,
     "metadata": {},
     "output_type": "execute_result"
    }
   ],
   "source": [
    "#check if there is NA\n",
    "np.isnan(X).any();np.isnan(Y).any()"
   ]
  },
  {
   "cell_type": "code",
   "execution_count": 12,
   "metadata": {},
   "outputs": [
    {
     "data": {
      "text/plain": [
       "0.80676536518027886"
      ]
     },
     "execution_count": 12,
     "metadata": {},
     "output_type": "execute_result"
    }
   ],
   "source": [
    "#Try RandomForest model\n",
    "from sklearn.ensemble import RandomForestClassifier\n",
    "clf = RandomForestClassifier()\n",
    "clf = clf.fit(X_train, Y_train)\n",
    "RF_Accuracy = clf.score(X_test, Y_test)\n",
    "RF_Accuracy"
   ]
  },
  {
   "cell_type": "code",
   "execution_count": 13,
   "metadata": {
    "collapsed": true
   },
   "outputs": [],
   "source": [
    "#Try MultinomialNB model\n",
    "from sklearn.naive_bayes import MultinomialNB\n",
    "clf_NB = MultinomialNB()\n",
    "clf_NB = clf_NB.fit(X_train, Y_train)\n",
    "MulNB_Accuracy = clf_NB.score(X_test, Y_test)"
   ]
  },
  {
   "cell_type": "code",
   "execution_count": 14,
   "metadata": {
    "collapsed": true
   },
   "outputs": [],
   "source": [
    "#Tye Linear regression model, which should not be appropriate for this data set\n",
    "from sklearn.linear_model import LinearRegression\n",
    "linreg = LinearRegression()\n",
    "linreg = linreg.fit(X_train, Y_train)\n",
    "LR_Accuracy = linreg.score(X_test, Y_test)"
   ]
  },
  {
   "cell_type": "code",
   "execution_count": 15,
   "metadata": {},
   "outputs": [
    {
     "data": {
      "text/plain": [
       "<matplotlib.text.Text at 0x23a24e55cf8>"
      ]
     },
     "execution_count": 15,
     "metadata": {},
     "output_type": "execute_result"
    },
    {
     "data": {
      "image/png": "[encoded data removed]",
      "text/plain": [
       "<matplotlib.figure.Figure at 0x23a24e789e8>"
      ]
     },
     "metadata": {},
     "output_type": "display_data"
    }
   ],
   "source": [
    "#Bar plot to show the comparison of the 3 models\n",
    "fig = plt.figure(figsize=(10,6))    \n",
    "X = np.array([1,2,3])\n",
    "Y = [RF_Accuracy,MulNB_Accuracy,LR_Accuracy]\n",
    "plt.bar(X, Y)\n",
    "plt.xticks(X,[\"Random Forest\",\"Multinomial NB\",\"Linear Regression\"] )\n",
    "plt.title(\"Comparison of 3 ML models\",fontsize=20)\n",
    "plt.ylabel(\"Accuray\", fontsize=17)"
   ]
  },
  {
   "cell_type": "code",
   "execution_count": null,
   "metadata": {
    "collapsed": true
   },
   "outputs": [],
   "source": []
  }
 ],
 "metadata": {
  "kernelspec": {
   "display_name": "Python 3",
   "language": "python",
   "name": "python3"
  },
  "language_info": {
   "codemirror_mode": {
    "name": "ipython",
    "version": 3
   },
   "file_extension": ".py",
   "mimetype": "text/x-python",
   "name": "python",
   "nbconvert_exporter": "python",
   "pygments_lexer": "ipython3",
   "version": "3.6.1"
  }
 },
 "nbformat": 4,
 "nbformat_minor": 2
}
